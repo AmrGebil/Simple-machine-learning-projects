{
 "cells": [
  {
   "cell_type": "code",
   "execution_count": 36,
   "id": "43d0a1a7",
   "metadata": {},
   "outputs": [
    {
     "data": {
      "text/html": [
       "<div>\n",
       "<style scoped>\n",
       "    .dataframe tbody tr th:only-of-type {\n",
       "        vertical-align: middle;\n",
       "    }\n",
       "\n",
       "    .dataframe tbody tr th {\n",
       "        vertical-align: top;\n",
       "    }\n",
       "\n",
       "    .dataframe thead th {\n",
       "        text-align: right;\n",
       "    }\n",
       "</style>\n",
       "<table border=\"1\" class=\"dataframe\">\n",
       "  <thead>\n",
       "    <tr style=\"text-align: right;\">\n",
       "      <th></th>\n",
       "      <th>R&amp;D Spend</th>\n",
       "      <th>Administration</th>\n",
       "      <th>Marketing Spend</th>\n",
       "      <th>California</th>\n",
       "      <th>Florida</th>\n",
       "      <th>New York</th>\n",
       "    </tr>\n",
       "  </thead>\n",
       "  <tbody>\n",
       "    <tr>\n",
       "      <th>0</th>\n",
       "      <td>165349.20</td>\n",
       "      <td>136897.80</td>\n",
       "      <td>471784.10</td>\n",
       "      <td>0</td>\n",
       "      <td>0</td>\n",
       "      <td>1</td>\n",
       "    </tr>\n",
       "    <tr>\n",
       "      <th>1</th>\n",
       "      <td>162597.70</td>\n",
       "      <td>151377.59</td>\n",
       "      <td>443898.53</td>\n",
       "      <td>1</td>\n",
       "      <td>0</td>\n",
       "      <td>0</td>\n",
       "    </tr>\n",
       "    <tr>\n",
       "      <th>2</th>\n",
       "      <td>153441.51</td>\n",
       "      <td>101145.55</td>\n",
       "      <td>407934.54</td>\n",
       "      <td>0</td>\n",
       "      <td>1</td>\n",
       "      <td>0</td>\n",
       "    </tr>\n",
       "    <tr>\n",
       "      <th>3</th>\n",
       "      <td>144372.41</td>\n",
       "      <td>118671.85</td>\n",
       "      <td>383199.62</td>\n",
       "      <td>0</td>\n",
       "      <td>0</td>\n",
       "      <td>1</td>\n",
       "    </tr>\n",
       "    <tr>\n",
       "      <th>4</th>\n",
       "      <td>142107.34</td>\n",
       "      <td>91391.77</td>\n",
       "      <td>366168.42</td>\n",
       "      <td>0</td>\n",
       "      <td>1</td>\n",
       "      <td>0</td>\n",
       "    </tr>\n",
       "  </tbody>\n",
       "</table>\n",
       "</div>"
      ],
      "text/plain": [
       "   R&D Spend  Administration  Marketing Spend  California  Florida  New York\n",
       "0  165349.20       136897.80        471784.10           0        0         1\n",
       "1  162597.70       151377.59        443898.53           1        0         0\n",
       "2  153441.51       101145.55        407934.54           0        1         0\n",
       "3  144372.41       118671.85        383199.62           0        0         1\n",
       "4  142107.34        91391.77        366168.42           0        1         0"
      ]
     },
     "execution_count": 36,
     "metadata": {},
     "output_type": "execute_result"
    }
   ],
   "source": [
    "import numpy as np\n",
    "import pandas as pd\n",
    "from sklearn.model_selection import train_test_split\n",
    "from sklearn.linear_model import LinearRegression\n",
    "from sklearn.preprocessing import PolynomialFeatures\n",
    "from sklearn.metrics import mean_absolute_error,mean_squared_error,r2_score\n",
    "data = pd.read_csv('50_Startups.csv')\n",
    "y=data['Profit']\n",
    "x=data.drop('Profit',axis=1)\n",
    "\n",
    "state=pd.get_dummies(x['State'])\n",
    "x=x.drop('State',axis=1)\n",
    "x=pd.concat([x,state],axis =1)\n",
    "x.head()\n",
    "\n"
   ]
  },
  {
   "cell_type": "code",
   "execution_count": 37,
   "id": "00d7dccb",
   "metadata": {},
   "outputs": [
    {
     "data": {
      "text/plain": [
       "27    105008.31\n",
       "35     96479.51\n",
       "40     78239.91\n",
       "38     81229.06\n",
       "2     191050.39\n",
       "3     182901.99\n",
       "48     35673.41\n",
       "29    101004.64\n",
       "46     49490.75\n",
       "31     97483.56\n",
       "Name: Profit, dtype: float64"
      ]
     },
     "execution_count": 37,
     "metadata": {},
     "output_type": "execute_result"
    }
   ],
   "source": [
    "x_train,x_test,y_train,y_test=train_test_split(x,y,test_size = 0.2, random_state = 1)\n",
    "\n",
    "poly_model=PolynomialFeatures(degree =1)\n",
    "x_poly_train=poly_model.fit_transform(x_train,y_train)\n",
    "x_poly_test=poly_model.fit_transform(x_test,y_test)\n",
    "\n",
    "Poly_regression=LinearRegression()\n",
    "Poly_regression.fit(x_poly_train,y_train)\n",
    "\n",
    "y_poly_pred = Poly_regression.predict(x_poly_test)\n",
    "y_test"
   ]
  },
  {
   "cell_type": "code",
   "execution_count": 38,
   "id": "e04086bf",
   "metadata": {},
   "outputs": [
    {
     "name": "stdout",
     "output_type": "stream",
     "text": [
      "Mean-absolute_error: 7698.11981748474\n",
      "Mean-squared_error: 79495441.50410959\n",
      "r2_score: 0.9649618042060469\n"
     ]
    }
   ],
   "source": [
    "print(\"Mean-absolute_error:\" , mean_absolute_error(y_test,y_poly_pred))\n",
    "print(\"Mean-squared_error:\",mean_squared_error(y_test,y_poly_pred))\n",
    "print(\"r2_score:\",r2_score(y_test, y_poly_pred))\n"
   ]
  },
  {
   "cell_type": "code",
   "execution_count": null,
   "id": "ce69ff3e",
   "metadata": {},
   "outputs": [],
   "source": []
  },
  {
   "cell_type": "code",
   "execution_count": null,
   "id": "0472fff8",
   "metadata": {},
   "outputs": [],
   "source": []
  }
 ],
 "metadata": {
  "kernelspec": {
   "display_name": "Python 3 (ipykernel)",
   "language": "python",
   "name": "python3"
  },
  "language_info": {
   "codemirror_mode": {
    "name": "ipython",
    "version": 3
   },
   "file_extension": ".py",
   "mimetype": "text/x-python",
   "name": "python",
   "nbconvert_exporter": "python",
   "pygments_lexer": "ipython3",
   "version": "3.10.6"
  }
 },
 "nbformat": 4,
 "nbformat_minor": 5
}
